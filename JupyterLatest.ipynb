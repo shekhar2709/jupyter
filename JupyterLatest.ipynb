{
"cells": [


    {
          "cell_type": "markdown",
          "metadata": {
            "id": "4ae6fd90ce34"
          },
          "source": [
            "#### Set your project ID\n",
            "\n",
            "**If you don't know your project ID**, you may be able to get your project ID using `gcloud`."
          ]
        },
        {
          "cell_type": "code",
          "execution_count": null,
          "metadata": {
            "id": "0b690120659f"
          },
          "outputs": [],
          "source": [
            "PROJECT_ID = \"\"\n",
            "\n",
            "# Get your Google Cloud project ID from gcloud\n",
            "if not os.getenv(\"IS_TESTING\"):\n",
            "    shell_output=!gcloud config list --format 'value(core.project)' 2>/dev/null\n",
            "    PROJECT_ID = shell_output[0]\n",
            "    print(\"Project ID: \", PROJECT_ID)"
          ]
        },

        {
          "cell_type": "code",
          "execution_count": null,
          "metadata": {
            "id": "0b690120959f"
          },
          "outputs": [],
          "source": [
            "import os\n",
            "from kfp import dsl\n",
            "from google.cloud import aiplatform\n",
            "from google.cloud import bigquery\n",
            "from google.cloud import secretmanager\n",
            "from google.cloud import language_v1\n"
          ]
        },

        {
              "cell_type": "code",
              "execution_count": null,
              "metadata": {
                "id": "950554272656"
              },
              "outputs": [],
              "source": [
                "DATASET_DISPLAY_NAME = \"[your-dataset-display-name]\n",
                "MODEL_DISPLAY_NAME = '\"[your-model-display-name]\n",
                "ENDPOINT_DISPLAY_NAME = '\"[-endpoint-display-name]\n",


                "#Set the target column representing the suitability or preference score of a stock\n",
                "TARGET_COLUMN = 'preference_score'\n",

                "# Set the BigQuery dataset and table names\n",
                "DATASET_NAME = 'your-bigquery-dataset-name'\n",
                "TABLE_NAME = 'your-bigquery-table-name'\n",

                "# Set the Model Registry and Feature Store locations\n",
                "MODEL_REGISTRY_LOCATION = 'us-central1'\n",
                "FEATURE_STORE_LOCATION = 'us-central1'\n",

                "# Set the staging bucket for Vertex AI\n",
                "STAGING_BUCKET = 'gs://your-staging-bucket'\n",
                "REGION = 'europe-west3'\n"
              ]
            },

            {
            "cell_type": "code",
              "execution_count": null,
              "metadata": {
                "id": "950554272666"
              },
              "outputs": [],
              "source": [
              "def automl_tabular_train_op(dataset_display_name, target_column, project, location, display_name):\n",
              "aiplatform.init(project=PROJECT_ID, location=REGION, staging_bucket=STAGING_BUCKET)\n",
              "secret_manager_client = secretmanager.SecretManagerServiceClient()\n",

              "# Custom component for AutoML Tabular training\n\n",
              "aiplatform.init(project=project, location=location, staging_bucket=STAGING_BUCKET)\n",
              "dataset = aiplatform.TabularDataset.get(display_name=dataset_display_name)\n",
                   "model = aiplatform.AutoMLTabularTrainingJob(\n",
                       "display_name=display_name,\n",
                       "optimization_prediction_type='regression',\n",
                   ")\n",
                   "model.run(dataset=dataset, target_column=target_column)\n",

                   "# Save the trained model to the Model Registry\n",
                   "model.save(model_display_name=display_name)\n"
              ]
            },

            {
                "cell_type": "code",
                  "execution_count": null,
                  "metadata": {
                    "id": "950554272676"
                  },
                  "outputs": [],
                  "source": [
                  "# Custom component for BigQuery query\n",
                  "def bigquery_query_op(query, project_id, location):\n",
                  "client = bigquery.Client(project=project_id, location=location)\n",
                  "query_job = client.query(query)\n",
                  "query_job.result()\n"

                  ]
            },

            {
                "cell_type": "code",
                  "execution_count": null,
                  "metadata": {
                    "id": "950554272686"
                  },
                  "outputs": [],
                  "source": [
                      "# Custom component for creating a BigQuery view\n",
                      "def bigquery_create_view_op(query, project_id, location):\n",
                      "client = bigquery.Client(project=project_id, location=location)\n",
                      "query_job = client.query(query)\n",
                      "query_job.result()\n"
                  ]
            },
            {
                "cell_type": "code",
                  "execution_count": null,
                  "metadata": {
                    "id": "950554272687"
                  },
                  "outputs": [],
                  "source": [
                      "# Custom component for performing sentiment analysis\n",
                      "def sentiment_analysis_op(text):\n",
                      "    # Create a language client\n",
                      "    client = language_v1.LanguageServiceClient()\n",

                      "   # Perform sentiment analysis on the input text\n",
                       "   document = language_v1.Document(content=text, type_=language_v1.Document.Type.PLAIN_TEXT)\n",
                       "   response = client.analyze_sentiment(request={'document': document})\n",

                       "   # Extract the sentiment score from the analysis result\n",
                       "   sentiment_score = response.document_sentiment.score\n",

                       "   return sentiment_score\n"
                  ]
            },

            {
                "cell_type": "code",
                  "execution_count": null,
                  "metadata": {
                    "id": "950554272688"
                  },
                  "outputs": [],
                  "source": [
                      "#Custom component for storing the endpoint ID in Secret Manager\n",
                      "def store_endpoint_id_op(endpoint_id, project_id):\n",
                      "secret_name = 'vertex-ai-endpoint-id'\n",
                      "parent = secret_manager_client.secret_path(project_id, secret_name)\n",
                      "secret = secret_manager_client.create_secret(\n",
                              "request={\n",
                                  "\"parent\": parent,\n",
                                  "\"secret_id\": secret_name,\n",
                                  "\"secret\": {\"replication\": {\"automatic\": {}}},\n",
                              "\"}\n",
                          ")\n",
                          "secret_payload = endpoint_id.encode(\"UTF-8\")\n",
                          "secret_manager_client.add_secret_version(\n",
                              "request={\n",
                                  "\"parent\": parent,\n",
                                  "\"payload\": {\"data\": secret_payload},\n",
                              "}\n",
                          ")\n"
                  ]
            },

            {
                "cell_type": "code",
                  "execution_count": null,
                  "metadata": {
                    "id": "950554272689"
                  },
                  "outputs": [],
                  "source": [
                      "#  Define the pipeline function\n",
                      "@dsl.pipeline(\n",
                          "name='Stock Recommendation Pipeline',\n",
                          "description='Pipeline for training an AutoML model and deploying an endpoint for stock recommendation.'\n"
                  ]
            },

            {
                "cell_type": "code",
                  "execution_count": null,
                  "metadata": {
                    "id": "950554272690"
                  },
                  "outputs": [],
                  "source": [
                      "def stock_recommendation_pipeline():\n",
                          "# Step 1: Query the BigQuery table to create a view\n",
                          "query = f\"\"\"\n",
                          "SELECT user_id, age, gender, income, risk_tolerance, investment_goals, stock_symbol, feedback, sentiment\n",
                          "FROM `{PROJECT_ID}.{DATASET_NAME}.{TABLE_NAME}`\n",
                          "\"\"\"\n",
                          "query_task = bigquery_query_op(\n",
                              "query=query,\n",
                              "project_id=PROJECT_ID,\n",
                              "location=REGION\n",
                          ")\n\n\n\n",

                          "# Step 2: Create the BigQuery view\n",
                          "view_query = f\"\"\"\n",
                          "CREATE OR REPLACE VIEW `{PROJECT_ID}.{DATASET_NAME}.narrowed_dataset_view` AS (\n",
                              "SELECT user_id, age, gender, income, risk_tolerance, investment_goals, stock_symbol, feedback, sentiment\n",
                              "FROM `{PROJECT_ID}.{DATASET_NAME}.{TABLE_NAME}`\n",
                              "WHERE user_id IS NOT NULL AND age IS NOT NULL AND gender IS NOT NULL\n",
                          ")\n",
                          "\"\"\"\n",
                          "create_view_task = bigquery_create_view_op(\n",
                              "query=view_query,\n",
                              "project_id=PROJECT_ID,\n",
                              "location=REGION\n",
                          ").after(query_task)\n\n\n",

                          "# Step 3: Perform sentimental analysis\n",
                          "sentiment_analysis_task = sentiment_analysis_op(\n",
                              "text=create_view_task.outputs['query'].output_value\n",
                          ").after(create_view_task)\n\n\n",

                          "# Step 4: Train an AutoML model\n",
                          "training_task = automl_tabular_train_op(\n",
                              "dataset_display_name=DATASET_DISPLAY_NAME,\n",
                              "target_column=TARGET_COLUMN,\n",
                              "project=PROJECT_ID,\n",
                              "location=REGION,\n",
                              "display_name=MODEL_DISPLAY_NAME\n",
                          ").after(sentiment_analysis_task)\n\n\n",

                          "# Step 5: Deploy an endpoint\n",
                          "endpoint_task = aiplatform.EndpointCreateOp(\n",
                              "project=PROJECT_ID,\n",
                              "display_name=ENDPOINT_DISPLAY_NAME\n",
                          ").after(training_task)\n\n\n",

                          "# Step 6: Save the model to the Model Registry\n",
                          "save_model_task = aiplatform.ModelUploadOp(\n",
                              "project=PROJECT_ID,\n",
                              "display_name=MODEL_DISPLAY_NAME,\n",
                              "serving_container_image_uri=training_task.outputs['model'].serving_container_image_uri\n",
                          ").after(endpoint_task)\n\n\n",

                          "# Step 7: Store the endpoint ID in Secret Manager\n",
                          "store_endpoint_id_task = store_endpoint_id_op(\n",
                              "endpoint_id=endpoint_task.outputs['endpoint'].resource_id,\n",
                              "project_id=PROJECT_ID\n",
                          ").after(save_model_task)\n"
                  ]
            },

            {
                 "cell_type": "code",
                   "execution_count": null,
                   "metadata": {
                     "id": "950554272691"
                   },
                   "outputs": [],
                   "source": [
                       "# Compile the pipeline\n",
                       "pipeline_filename = 'stock_recommendation_pipeline.yaml'\n",
                       "compiler.Compiler().compile(stock_recommendation_pipeline, pipeline_filename)\n"
                   ]
             },

            {
                 "cell_type": "code",
                   "execution_count": null,
                   "metadata": {
                     "id": "950554272691"
                   },
                   "outputs": [],
                   "source": [
                       "# Create an experiment and run the pipeline\n",
                       "experiment = aiplatform.Experiment.create(display_name='Stock Recommendation Experiment')\n",
                       "run = experiment.run(name='Stock Recommendation Run', pipeline=pipeline_filename, enable_caching=False)\n"
                   ]
             }
















],
 "metadata": {
  "environment": {
   "name": "tf2-gpu.2-3.m75",
   "type": "gcloud",
   "uri": "gcr.io/deeplearning-platform-release/tf2-gpu.2-3:m75"
  },
  "kernelspec": {
   "display_name": "Python 3",
   "language": "python",
   "name": "python3"
  },
  "language_info": {
   "codemirror_mode": {
    "name": "ipython",
    "version": 3
   },
   "file_extension": ".py",
   "mimetype": "text/x-python",
   "name": "python",
   "nbconvert_exporter": "python",
   "pygments_lexer": "ipython3",
   "version": "3.7.10"
  }
 },
 "nbformat": 4,
 "nbformat_minor": 5
}
