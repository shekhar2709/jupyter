{
"cells": [


    {
          "cell_type": "markdown",
          "metadata": {
            "id": "4ae6fd90ce34"
          },
          "source": [
            "#### Set your project ID\n",
            "\n",
            "**If you don't know your project ID**, you may be able to get your project ID using `gcloud`."
          ]
        },
        {
          "cell_type": "code",
          "execution_count": null,
          "metadata": {
            "id": "0b690120659f"
          },
          "outputs": [],
          "source": [
            "PROJECT_ID = \"\"\n",
            "\n",
            "# Get your Google Cloud project ID from gcloud\n",
            "if not os.getenv(\"IS_TESTING\"):\n",
            "    shell_output=!gcloud config list --format 'value(core.project)' 2>/dev/null\n",
            "    PROJECT_ID = shell_output[0]\n",
            "    print(\"Project ID: \", PROJECT_ID)"
          ]
        },

        {
              "cell_type": "code",
              "execution_count": null,
              "metadata": {
                "id": "950554272656"
              },
              "outputs": [],
              "source": [
                "DATASET_DISPLAY_NAME = \"[your-dataset-display-name]\n",
                "MODEL_DISPLAY_NAME = '\"[your-model-display-name]\n",
                "ENDPOINT_DISPLAY_NAME = '\"[-endpoint-display-name]\n",


                "#Set the target column representing the suitability or preference score of a stock\n",
                "TARGET_COLUMN = 'preference_score'\n",

                "# Set the BigQuery dataset and table names\n",
                "DATASET_NAME = 'your-bigquery-dataset-name'\n",
                "TABLE_NAME = 'your-bigquery-table-name'\n",

                "# Set the Model Registry and Feature Store locations\n",
                "MODEL_REGISTRY_LOCATION = 'us-central1'\n",
                "FEATURE_STORE_LOCATION = 'us-central1'\n",

                "# Set the staging bucket for Vertex AI\n",
                "STAGING_BUCKET = 'gs://your-staging-bucket'\n"
              ]
            },

            {
            "cell_type": "code",
              "execution_count": null,
              "metadata": {
                "id": "950554272666"
              },
              "outputs": [],
              "source": [

              "aiplatform.init(project=PROJECT_ID, location=REGION, staging_bucket=STAGING_BUCKET)\n",
              "secret_manager_client = secretmanager.SecretManagerServiceClient()\n",

              "# Custom component for AutoML Tabular training\n\n",
              "aiplatform.init(project=project, location=location, staging_bucket=STAGING_BUCKET)\n",
              "dataset = aiplatform.TabularDataset.get(display_name=dataset_display_name)\n",
                   "model = aiplatform.AutoMLTabularTrainingJob(\n",
                       "display_name=display_name,\n",
                       "optimization_prediction_type='regression',\n",
                   ")\n",
                   "model.run(dataset=dataset, target_column=target_column)\n",

                   "# Save the trained model to the Model Registry\n",
                   "model.save(model_display_name=display_name)\n"
              ]
            },

            {
                "cell_type": "code",
                  "execution_count": null,
                  "metadata": {
                    "id": "950554272676"
                  },
                  "outputs": [],
                  "source": [
                  "# Custom component for BigQuery query\n",
                  "client = bigquery.Client(project=project_id, location=location)\n",
                  "query_job = client.query(query)\n",
                  "query_job.result()\n"

                  ]
            },

            {
                "cell_type": "code",
                  "execution_count": null,
                  "metadata": {
                    "id": "950554272686"
                  },
                  "outputs": [],
                  "source": [
                      "# Custom component for creating a BigQuery view\n",
                      "client = bigquery.Client(project=project_id, location=location)\n",
                      "query_job = client.query(query)\n",
                      "query_job.result()\n"
                  ]
            },
            {
                "cell_type": "code",
                  "execution_count": null,
                  "metadata": {
                    "id": "950554272687"
                  },
                  "outputs": [],
                  "source": [
                      "# Custom component for performing sentiment analysis\n",
                      "sentiment_score = ...  # Code to perform sentiment analysis on the input text\n",
                      "return sentiment_score\n"
                  ]
            },

            {
                "cell_type": "code",
                  "execution_count": null,
                  "metadata": {
                    "id": "950554272688"
                  },
                  "outputs": [],
                  "source": [
                      "#Custom component for storing the endpoint ID in Secret Manager\n",
                      "secret_name = 'vertex-ai-endpoint-id'\n",
                      "parent = secret_manager_client.secret_path(project_id, secret_name)\n",
                      "secret = secret_manager_client.create_secret(\n",
                              "request={\n",
                                  "\"parent\": parent,\n",
                                  "\"secret_id\": secret_name,\n",
                                  "\"secret\": {\"replication\": {\"automatic\": {}}},\n",
                              "\"}\n",
                          ")\n",
                          "secret_payload = endpoint_id.encode(\"UTF-8\")\n",
                          "secret_manager_client.add_secret_version(\n",
                              "request={\n",
                                  "\"parent\": parent,\n",
                                  "\"payload\": {\"data\": secret_payload},\n",
                              "}\n",
                          ")\n"
                  ]
            },

            {
                "cell_type": "code",
                  "execution_count": null,
                  "metadata": {
                    "id": "950554272689"
                  },
                  "outputs": [],
                  "source": [
                      "#  Define the pipeline function\n",
                      "@dsl.pipeline(\n",
                          "name='Stock Recommendation Pipeline',\n",
                          "description='Pipeline for training an AutoML model and deploying an endpoint for stock recommendation.'\n"
                  ]
            }
















],
 "metadata": {
  "environment": {
   "name": "tf2-gpu.2-3.m75",
   "type": "gcloud",
   "uri": "gcr.io/deeplearning-platform-release/tf2-gpu.2-3:m75"
  },
  "kernelspec": {
   "display_name": "Python 3",
   "language": "python",
   "name": "python3"
  },
  "language_info": {
   "codemirror_mode": {
    "name": "ipython",
    "version": 3
   },
   "file_extension": ".py",
   "mimetype": "text/x-python",
   "name": "python",
   "nbconvert_exporter": "python",
   "pygments_lexer": "ipython3",
   "version": "3.7.10"
  }
 },
 "nbformat": 4,
 "nbformat_minor": 5
}
