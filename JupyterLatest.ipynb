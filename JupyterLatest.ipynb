{
"cells": [


    {
          "cell_type": "markdown",
          "metadata": {
            "id": "4ae6fd90ce34"
          },
          "source": [
            "#### Set your project ID\n",
            "\n",
            "**If you don't know your project ID**, you may be able to get your project ID using `gcloud`."
          ]
        },
        {
          "cell_type": "code",
          "execution_count": null,
          "metadata": {
            "id": "0b690120659f"
          },
          "outputs": [],
          "source": [
            "PROJECT_ID = \"\"\n",
            "\n",
            "# Get your Google Cloud project ID from gcloud\n",
            "if not os.getenv(\"IS_TESTING\"):\n",
            "    shell_output=!gcloud config list --format 'value(core.project)' 2>/dev/null\n",
            "    PROJECT_ID = shell_output[0]\n",
            "    print(\"Project ID: \", PROJECT_ID)"
          ]
        },

        {
              "cell_type": "code",
              "execution_count": null,
              "metadata": {
                "id": "950554272656"
              },
              "outputs": [],
              "source": [
                "DATASET_DISPLAY_NAME = \"[your-dataset-display-name]\n",
                "MODEL_DISPLAY_NAME = '\"[your-model-display-name]\n",
                "ENDPOINT_DISPLAY_NAME = '\"[-endpoint-display-name]\""
              ]
            }
















],
 "metadata": {
  "environment": {
   "name": "tf2-gpu.2-3.m75",
   "type": "gcloud",
   "uri": "gcr.io/deeplearning-platform-release/tf2-gpu.2-3:m75"
  },
  "kernelspec": {
   "display_name": "Python 3",
   "language": "python",
   "name": "python3"
  },
  "language_info": {
   "codemirror_mode": {
    "name": "ipython",
    "version": 3
   },
   "file_extension": ".py",
   "mimetype": "text/x-python",
   "name": "python",
   "nbconvert_exporter": "python",
   "pygments_lexer": "ipython3",
   "version": "3.7.10"
  }
 },
 "nbformat": 4,
 "nbformat_minor": 5
}
